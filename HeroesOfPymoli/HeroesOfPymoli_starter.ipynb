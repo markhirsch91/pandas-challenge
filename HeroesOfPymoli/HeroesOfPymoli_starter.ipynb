{
 "cells": [
  {
   "cell_type": "markdown",
   "metadata": {},
   "source": [
    "### Note\n",
    "* Instructions have been included for each segment. You do not have to follow them exactly, but they are included to help you think through the steps."
   ]
  },
  {
   "cell_type": "code",
   "execution_count": 47,
   "metadata": {},
   "outputs": [
    {
     "data": {
      "text/html": [
       "<div>\n",
       "<style scoped>\n",
       "    .dataframe tbody tr th:only-of-type {\n",
       "        vertical-align: middle;\n",
       "    }\n",
       "\n",
       "    .dataframe tbody tr th {\n",
       "        vertical-align: top;\n",
       "    }\n",
       "\n",
       "    .dataframe thead th {\n",
       "        text-align: right;\n",
       "    }\n",
       "</style>\n",
       "<table border=\"1\" class=\"dataframe\">\n",
       "  <thead>\n",
       "    <tr style=\"text-align: right;\">\n",
       "      <th></th>\n",
       "      <th>Purchase ID</th>\n",
       "      <th>SN</th>\n",
       "      <th>Age</th>\n",
       "      <th>Gender</th>\n",
       "      <th>Item ID</th>\n",
       "      <th>Item Name</th>\n",
       "      <th>Price</th>\n",
       "    </tr>\n",
       "  </thead>\n",
       "  <tbody>\n",
       "    <tr>\n",
       "      <th>0</th>\n",
       "      <td>0</td>\n",
       "      <td>Lisim78</td>\n",
       "      <td>20</td>\n",
       "      <td>Male</td>\n",
       "      <td>108</td>\n",
       "      <td>Extraction, Quickblade Of Trembling Hands</td>\n",
       "      <td>3.53</td>\n",
       "    </tr>\n",
       "    <tr>\n",
       "      <th>1</th>\n",
       "      <td>1</td>\n",
       "      <td>Lisovynya38</td>\n",
       "      <td>40</td>\n",
       "      <td>Male</td>\n",
       "      <td>143</td>\n",
       "      <td>Frenzied Scimitar</td>\n",
       "      <td>1.56</td>\n",
       "    </tr>\n",
       "    <tr>\n",
       "      <th>2</th>\n",
       "      <td>2</td>\n",
       "      <td>Ithergue48</td>\n",
       "      <td>24</td>\n",
       "      <td>Male</td>\n",
       "      <td>92</td>\n",
       "      <td>Final Critic</td>\n",
       "      <td>4.88</td>\n",
       "    </tr>\n",
       "    <tr>\n",
       "      <th>3</th>\n",
       "      <td>3</td>\n",
       "      <td>Chamassasya86</td>\n",
       "      <td>24</td>\n",
       "      <td>Male</td>\n",
       "      <td>100</td>\n",
       "      <td>Blindscythe</td>\n",
       "      <td>3.27</td>\n",
       "    </tr>\n",
       "    <tr>\n",
       "      <th>4</th>\n",
       "      <td>4</td>\n",
       "      <td>Iskosia90</td>\n",
       "      <td>23</td>\n",
       "      <td>Male</td>\n",
       "      <td>131</td>\n",
       "      <td>Fury</td>\n",
       "      <td>1.44</td>\n",
       "    </tr>\n",
       "  </tbody>\n",
       "</table>\n",
       "</div>"
      ],
      "text/plain": [
       "   Purchase ID             SN  Age Gender  Item ID  \\\n",
       "0            0        Lisim78   20   Male      108   \n",
       "1            1    Lisovynya38   40   Male      143   \n",
       "2            2     Ithergue48   24   Male       92   \n",
       "3            3  Chamassasya86   24   Male      100   \n",
       "4            4      Iskosia90   23   Male      131   \n",
       "\n",
       "                                   Item Name  Price  \n",
       "0  Extraction, Quickblade Of Trembling Hands   3.53  \n",
       "1                          Frenzied Scimitar   1.56  \n",
       "2                               Final Critic   4.88  \n",
       "3                                Blindscythe   3.27  \n",
       "4                                       Fury   1.44  "
      ]
     },
     "execution_count": 47,
     "metadata": {},
     "output_type": "execute_result"
    }
   ],
   "source": [
    "# Dependencies and Setup\n",
    "import pandas as pd\n",
    "\n",
    "# File to Load (Remember to Change These)\n",
    "file_to_load = \"Resources/purchase_data.csv\"\n",
    "\n",
    "# Read Purchasing File and store into Pandas data frame\n",
    "purchase_data = pd.read_csv(file_to_load)\n",
    "purchase_data.head()"
   ]
  },
  {
   "cell_type": "markdown",
   "metadata": {},
   "source": [
    "## Player Count"
   ]
  },
  {
   "cell_type": "markdown",
   "metadata": {},
   "source": [
    "* Display the total number of players\n"
   ]
  },
  {
   "cell_type": "code",
   "execution_count": 48,
   "metadata": {},
   "outputs": [
    {
     "data": {
      "text/html": [
       "<div>\n",
       "<style scoped>\n",
       "    .dataframe tbody tr th:only-of-type {\n",
       "        vertical-align: middle;\n",
       "    }\n",
       "\n",
       "    .dataframe tbody tr th {\n",
       "        vertical-align: top;\n",
       "    }\n",
       "\n",
       "    .dataframe thead th {\n",
       "        text-align: right;\n",
       "    }\n",
       "</style>\n",
       "<table border=\"1\" class=\"dataframe\">\n",
       "  <thead>\n",
       "    <tr style=\"text-align: right;\">\n",
       "      <th></th>\n",
       "      <th>Total Players</th>\n",
       "    </tr>\n",
       "  </thead>\n",
       "  <tbody>\n",
       "    <tr>\n",
       "      <th>0</th>\n",
       "      <td>576</td>\n",
       "    </tr>\n",
       "  </tbody>\n",
       "</table>\n",
       "</div>"
      ],
      "text/plain": [
       "   Total Players\n",
       "0            576"
      ]
     },
     "execution_count": 48,
     "metadata": {},
     "output_type": "execute_result"
    }
   ],
   "source": [
    "# Grabbing the unique SN's from purchase_data, then finding the number of unique SN's using the length function\n",
    "player_count = len(purchase_data[\"SN\"].unique())\n",
    "player_count_summary = pd.DataFrame({\"Total Players\": [player_count]})\n",
    "\n",
    "player_count_summary"
   ]
  },
  {
   "cell_type": "markdown",
   "metadata": {},
   "source": [
    "## Purchasing Analysis (Total)"
   ]
  },
  {
   "cell_type": "markdown",
   "metadata": {},
   "source": [
    "* Run basic calculations to obtain number of unique items, average price, etc.\n",
    "\n",
    "\n",
    "* Create a summary data frame to hold the results\n",
    "\n",
    "\n",
    "* Optional: give the displayed data cleaner formatting\n",
    "\n",
    "\n",
    "* Display the summary data frame\n"
   ]
  },
  {
   "cell_type": "code",
   "execution_count": 49,
   "metadata": {
    "scrolled": true
   },
   "outputs": [
    {
     "data": {
      "text/html": [
       "<style  type=\"text/css\" >\n",
       "</style><table id=\"T_00eb1a0c_c251_11ea_9a2d_94de8069f676\" ><thead>    <tr>        <th class=\"blank level0\" ></th>        <th class=\"col_heading level0 col0\" >Number of Unique Items</th>        <th class=\"col_heading level0 col1\" >Average Price</th>        <th class=\"col_heading level0 col2\" >Number of Purchases</th>        <th class=\"col_heading level0 col3\" >Total Revenue</th>    </tr></thead><tbody>\n",
       "                <tr>\n",
       "                        <th id=\"T_00eb1a0c_c251_11ea_9a2d_94de8069f676level0_row0\" class=\"row_heading level0 row0\" >0</th>\n",
       "                        <td id=\"T_00eb1a0c_c251_11ea_9a2d_94de8069f676row0_col0\" class=\"data row0 col0\" >179</td>\n",
       "                        <td id=\"T_00eb1a0c_c251_11ea_9a2d_94de8069f676row0_col1\" class=\"data row0 col1\" >$3.05</td>\n",
       "                        <td id=\"T_00eb1a0c_c251_11ea_9a2d_94de8069f676row0_col2\" class=\"data row0 col2\" >780</td>\n",
       "                        <td id=\"T_00eb1a0c_c251_11ea_9a2d_94de8069f676row0_col3\" class=\"data row0 col3\" >$2,379.77</td>\n",
       "            </tr>\n",
       "    </tbody></table>"
      ],
      "text/plain": [
       "<pandas.io.formats.style.Styler at 0x1ec2e3f2d30>"
      ]
     },
     "execution_count": 49,
     "metadata": {},
     "output_type": "execute_result"
    }
   ],
   "source": [
    "# Using Item ID's as identifier. Grabbing the unique Item ID's from purchase_data, then finding the number of unique Item ID's using the length function\n",
    "item_count = len(purchase_data[\"Item ID\"].unique())\n",
    "\n",
    "# Grabbing the unique Purchase ID's from purchase_data, then finding the number of unique Purchase ID's using the length function\n",
    "purchase_count = len(purchase_data[\"Purchase ID\"].unique())\n",
    "\n",
    "# The total revenue is the sum of every purchase price from each purchase\n",
    "total_revenue = purchase_data[\"Price\"].sum()\n",
    "\n",
    "# The average price is the average of every purchase price from each purchase\n",
    "average_price = purchase_data[\"Price\"].mean()\n",
    "\n",
    "\n",
    "\n",
    "# Displaying a summary data frame\n",
    "purchaseanalysis_df = pd.DataFrame({\"Number of Unique Items\": [item_count],\n",
    "                              \"Average Price\": [average_price],\n",
    "                              \"Number of Purchases\": [purchase_count],\n",
    "                              \"Total Revenue\": [total_revenue]})\n",
    "\n",
    "\n",
    "# Formatting the Average Price and Total Revenue values so they cleanly display as currency\n",
    "purchaseanalysis_df.style.format({\"Average Price\":\"${:,.2f}\",\n",
    "                                  \"Total Revenue\":\"${:,.2f}\" })\n",
    "\n"
   ]
  },
  {
   "cell_type": "markdown",
   "metadata": {},
   "source": [
    "## Gender Demographics"
   ]
  },
  {
   "cell_type": "markdown",
   "metadata": {},
   "source": [
    "* Percentage and Count of Male Players\n",
    "\n",
    "\n",
    "* Percentage and Count of Female Players\n",
    "\n",
    "\n",
    "* Percentage and Count of Other / Non-Disclosed\n",
    "\n",
    "\n"
   ]
  },
  {
   "cell_type": "code",
   "execution_count": 50,
   "metadata": {},
   "outputs": [
    {
     "data": {
      "text/html": [
       "<div>\n",
       "<style scoped>\n",
       "    .dataframe tbody tr th:only-of-type {\n",
       "        vertical-align: middle;\n",
       "    }\n",
       "\n",
       "    .dataframe tbody tr th {\n",
       "        vertical-align: top;\n",
       "    }\n",
       "\n",
       "    .dataframe thead th {\n",
       "        text-align: right;\n",
       "    }\n",
       "</style>\n",
       "<table border=\"1\" class=\"dataframe\">\n",
       "  <thead>\n",
       "    <tr style=\"text-align: right;\">\n",
       "      <th></th>\n",
       "      <th>Total Count</th>\n",
       "      <th>Percentage of Players</th>\n",
       "    </tr>\n",
       "  </thead>\n",
       "  <tbody>\n",
       "    <tr>\n",
       "      <th>Male</th>\n",
       "      <td>484</td>\n",
       "      <td>84.03%</td>\n",
       "    </tr>\n",
       "    <tr>\n",
       "      <th>Female</th>\n",
       "      <td>81</td>\n",
       "      <td>14.06%</td>\n",
       "    </tr>\n",
       "    <tr>\n",
       "      <th>Other / Non-Disclosed</th>\n",
       "      <td>11</td>\n",
       "      <td>1.91%</td>\n",
       "    </tr>\n",
       "  </tbody>\n",
       "</table>\n",
       "</div>"
      ],
      "text/plain": [
       "                       Total Count Percentage of Players\n",
       "Male                           484                84.03%\n",
       "Female                          81                14.06%\n",
       "Other / Non-Disclosed           11                 1.91%"
      ]
     },
     "execution_count": 50,
     "metadata": {},
     "output_type": "execute_result"
    }
   ],
   "source": [
    "# First, we need to drop the duplicate entries based on SN to get the most accurate set of data to do our Gender Demo. calculations\n",
    "gender_dupe_drop = purchase_data.drop_duplicates(subset= 'SN', keep= \"first\")\n",
    "# Now that those are dropped, we can get a proper count of each gender \n",
    "gender_counts = gender_dupe_drop[\"Gender\"].value_counts()\n",
    "\n",
    "# The percentage of each gender is calculated by dividing the gender_counts (defined above) by the total players from all genders\n",
    "percent_players = ((gender_counts / player_count) * 100).map(\"{:.2f}%\".format)\n",
    "\n",
    "\n",
    "# displaying the values from above calculations\n",
    "gender_demographics_df = pd.DataFrame({\"Total Count\":gender_counts, \"Percentage of Players\":percent_players})\n",
    "gender_demographics_df"
   ]
  },
  {
   "cell_type": "markdown",
   "metadata": {},
   "source": [
    "\n",
    "## Purchasing Analysis (Gender)"
   ]
  },
  {
   "cell_type": "markdown",
   "metadata": {},
   "source": [
    "* Run basic calculations to obtain purchase count, avg. purchase price, avg. purchase total per person etc. by gender\n",
    "\n",
    "\n",
    "\n",
    "\n",
    "* Create a summary data frame to hold the results\n",
    "\n",
    "\n",
    "* Optional: give the displayed data cleaner formatting\n",
    "\n",
    "\n",
    "* Display the summary data frame"
   ]
  },
  {
   "cell_type": "code",
   "execution_count": 64,
   "metadata": {},
   "outputs": [
    {
     "data": {
      "text/html": [
       "<style  type=\"text/css\" >\n",
       "</style><table id=\"T_b7f919b6_c253_11ea_ae8e_94de8069f676\" ><thead>    <tr>        <th class=\"blank level0\" ></th>        <th class=\"col_heading level0 col0\" >Purchase Count</th>        <th class=\"col_heading level0 col1\" >Average Purchase Price</th>        <th class=\"col_heading level0 col2\" >Total Purchase Value</th>        <th class=\"col_heading level0 col3\" >Avg Total Purchase per Person</th>    </tr>    <tr>        <th class=\"index_name level0\" >Gender</th>        <th class=\"blank\" ></th>        <th class=\"blank\" ></th>        <th class=\"blank\" ></th>        <th class=\"blank\" ></th>    </tr></thead><tbody>\n",
       "                <tr>\n",
       "                        <th id=\"T_b7f919b6_c253_11ea_ae8e_94de8069f676level0_row0\" class=\"row_heading level0 row0\" >Female</th>\n",
       "                        <td id=\"T_b7f919b6_c253_11ea_ae8e_94de8069f676row0_col0\" class=\"data row0 col0\" >113</td>\n",
       "                        <td id=\"T_b7f919b6_c253_11ea_ae8e_94de8069f676row0_col1\" class=\"data row0 col1\" >$3.20</td>\n",
       "                        <td id=\"T_b7f919b6_c253_11ea_ae8e_94de8069f676row0_col2\" class=\"data row0 col2\" >$361.94</td>\n",
       "                        <td id=\"T_b7f919b6_c253_11ea_ae8e_94de8069f676row0_col3\" class=\"data row0 col3\" >$4.47</td>\n",
       "            </tr>\n",
       "            <tr>\n",
       "                        <th id=\"T_b7f919b6_c253_11ea_ae8e_94de8069f676level0_row1\" class=\"row_heading level0 row1\" >Male</th>\n",
       "                        <td id=\"T_b7f919b6_c253_11ea_ae8e_94de8069f676row1_col0\" class=\"data row1 col0\" >652</td>\n",
       "                        <td id=\"T_b7f919b6_c253_11ea_ae8e_94de8069f676row1_col1\" class=\"data row1 col1\" >$3.02</td>\n",
       "                        <td id=\"T_b7f919b6_c253_11ea_ae8e_94de8069f676row1_col2\" class=\"data row1 col2\" >$1,967.64</td>\n",
       "                        <td id=\"T_b7f919b6_c253_11ea_ae8e_94de8069f676row1_col3\" class=\"data row1 col3\" >$4.07</td>\n",
       "            </tr>\n",
       "            <tr>\n",
       "                        <th id=\"T_b7f919b6_c253_11ea_ae8e_94de8069f676level0_row2\" class=\"row_heading level0 row2\" >Other / Non-Disclosed</th>\n",
       "                        <td id=\"T_b7f919b6_c253_11ea_ae8e_94de8069f676row2_col0\" class=\"data row2 col0\" >15</td>\n",
       "                        <td id=\"T_b7f919b6_c253_11ea_ae8e_94de8069f676row2_col1\" class=\"data row2 col1\" >$3.35</td>\n",
       "                        <td id=\"T_b7f919b6_c253_11ea_ae8e_94de8069f676row2_col2\" class=\"data row2 col2\" >$50.19</td>\n",
       "                        <td id=\"T_b7f919b6_c253_11ea_ae8e_94de8069f676row2_col3\" class=\"data row2 col3\" >$4.56</td>\n",
       "            </tr>\n",
       "    </tbody></table>"
      ],
      "text/plain": [
       "<pandas.io.formats.style.Styler at 0x1ec2e35a3c8>"
      ]
     },
     "execution_count": 64,
     "metadata": {},
     "output_type": "execute_result"
    }
   ],
   "source": [
    "# We want to view purchase_day in terms of the \"Gender\" column, so we will use groupby\n",
    "grouped_purchase_data = purchase_data.groupby([\"Gender\"])\n",
    "\n",
    "# Defining new varialbes that will hold the number of purchases per gender, \n",
    "# average purchase price per gender, the total value of all purchases per gender,\n",
    "purchase_count_gender = grouped_purchase_data[\"Gender\"].count()\n",
    "average_price_gender = grouped_purchase_data[\"Price\"].mean()\n",
    "total_purchaseprice_value = grouped_purchase_data[\"Price\"].sum()\n",
    "\n",
    "# the average purchase amount per person in each gender category is found by\n",
    "# taking the total value of all purchases per gender and dividing it by the count of each gender\n",
    "average_purchaseprice_per_person = total_purchaseprice_value / gender_counts\n",
    "\n",
    "\n",
    "\n",
    "purchase_analysis_gender_df = pd.DataFrame({\"Purchase Count\":purchase_count_gender,\n",
    "                                            \"Average Purchase Price\":average_price_gender,\n",
    "                                            \"Total Purchase Value\": total_purchaseprice_value,\n",
    "                                            \"Avg Total Purchase per Person\": average_purchaseprice_per_person})\n",
    "\n",
    "purchase_analysis_gender_df.style.format({\"Average Purchase Price\":\"${:,.2f}\",\n",
    "                                          \"Total Purchase Value\":\"${:,.2f}\",\n",
    "                                          \"Avg Total Purchase per Person\":\"${:,.2f}\"})\n",
    "\n",
    "\n"
   ]
  },
  {
   "cell_type": "markdown",
   "metadata": {},
   "source": [
    "## Age Demographics"
   ]
  },
  {
   "cell_type": "markdown",
   "metadata": {},
   "source": [
    "* Establish bins for ages\n",
    "\n",
    "\n",
    "* Categorize the existing players using the age bins. Hint: use pd.cut()\n",
    "\n",
    "\n",
    "* Calculate the numbers and percentages by age group\n",
    "\n",
    "\n",
    "* Create a summary data frame to hold the results\n",
    "\n",
    "\n",
    "* Optional: round the percentage column to two decimal points\n",
    "\n",
    "\n",
    "* Display Age Demographics Table\n"
   ]
  },
  {
   "cell_type": "code",
   "execution_count": 65,
   "metadata": {},
   "outputs": [
    {
     "name": "stderr",
     "output_type": "stream",
     "text": [
      "C:\\Users\\Mark\\anaconda3\\envs\\PythonData\\lib\\site-packages\\ipykernel_launcher.py:11: SettingWithCopyWarning: \n",
      "A value is trying to be set on a copy of a slice from a DataFrame.\n",
      "Try using .loc[row_indexer,col_indexer] = value instead\n",
      "\n",
      "See the caveats in the documentation: https://pandas.pydata.org/pandas-docs/stable/user_guide/indexing.html#returning-a-view-versus-a-copy\n",
      "  # This is added back by InteractiveShellApp.init_path()\n"
     ]
    },
    {
     "data": {
      "text/html": [
       "<div>\n",
       "<style scoped>\n",
       "    .dataframe tbody tr th:only-of-type {\n",
       "        vertical-align: middle;\n",
       "    }\n",
       "\n",
       "    .dataframe tbody tr th {\n",
       "        vertical-align: top;\n",
       "    }\n",
       "\n",
       "    .dataframe thead th {\n",
       "        text-align: right;\n",
       "    }\n",
       "</style>\n",
       "<table border=\"1\" class=\"dataframe\">\n",
       "  <thead>\n",
       "    <tr style=\"text-align: right;\">\n",
       "      <th></th>\n",
       "      <th>Total Count</th>\n",
       "      <th>Percentage of Players</th>\n",
       "    </tr>\n",
       "  </thead>\n",
       "  <tbody>\n",
       "    <tr>\n",
       "      <th>20-24</th>\n",
       "      <td>258</td>\n",
       "      <td>44.79%</td>\n",
       "    </tr>\n",
       "    <tr>\n",
       "      <th>15-19</th>\n",
       "      <td>107</td>\n",
       "      <td>18.58%</td>\n",
       "    </tr>\n",
       "    <tr>\n",
       "      <th>25-29</th>\n",
       "      <td>77</td>\n",
       "      <td>13.37%</td>\n",
       "    </tr>\n",
       "    <tr>\n",
       "      <th>30-34</th>\n",
       "      <td>52</td>\n",
       "      <td>9.03%</td>\n",
       "    </tr>\n",
       "    <tr>\n",
       "      <th>35-39</th>\n",
       "      <td>31</td>\n",
       "      <td>5.38%</td>\n",
       "    </tr>\n",
       "    <tr>\n",
       "      <th>10-14</th>\n",
       "      <td>22</td>\n",
       "      <td>3.82%</td>\n",
       "    </tr>\n",
       "    <tr>\n",
       "      <th>&lt;10</th>\n",
       "      <td>17</td>\n",
       "      <td>2.95%</td>\n",
       "    </tr>\n",
       "    <tr>\n",
       "      <th>40+</th>\n",
       "      <td>12</td>\n",
       "      <td>2.08%</td>\n",
       "    </tr>\n",
       "  </tbody>\n",
       "</table>\n",
       "</div>"
      ],
      "text/plain": [
       "       Total Count Percentage of Players\n",
       "20-24          258                44.79%\n",
       "15-19          107                18.58%\n",
       "25-29           77                13.37%\n",
       "30-34           52                 9.03%\n",
       "35-39           31                 5.38%\n",
       "10-14           22                 3.82%\n",
       "<10             17                 2.95%\n",
       "40+             12                 2.08%"
      ]
     },
     "execution_count": 65,
     "metadata": {},
     "output_type": "execute_result"
    }
   ],
   "source": [
    "# Defining the age groups, and setting the bins to categories which ages will go in which age group\n",
    "\n",
    "age_bins = [0, 9.9, 14.9, 19.9, 24.9, 29.9, 34.9, 39.9, 200]\n",
    "age_groups = [\"<10\", \"10-14\", \"15-19\", \"20-24\", \"25-29\", \"30-34\", \"35-39\", \"40+\"]\n",
    "\n",
    "# removing duplicate SN's to find the most accurate count for our age group bins\n",
    "age_no_duplicates = purchase_data.drop_duplicates(\"SN\")\n",
    "\n",
    "# placing the age values from purchase_data into those bins defined above\n",
    "pd.cut(purchase_data[\"Age\"], age_bins, labels=age_groups)\n",
    "age_no_duplicates[\"Age_Group\"] = pd.cut(age_no_duplicates[\"Age\"], age_bins, labels=age_groups)\n",
    "\n",
    "# counting the amount of players within each age group\n",
    "total_count_ages = age_no_duplicates[\"Age_Group\"].value_counts()\n",
    "\n",
    "# finding the percentage of players in each age group, compared to the other age groups, and applying the % formatting\n",
    "age_demos_percentage_of_players = ((total_count_ages/player_count) *100).map(\"{:.2f}%\".format)\n",
    "\n",
    "# displaying the Total Count and Percentage of Players in each age group in a summary table\n",
    "age_demos_table = pd.DataFrame({\"Total Count\": total_count_ages,\"Percentage of Players\": age_demos_percentage_of_players})\n",
    "\n",
    "\n",
    "age_demos_table"
   ]
  },
  {
   "cell_type": "markdown",
   "metadata": {},
   "source": [
    "## Purchasing Analysis (Age)"
   ]
  },
  {
   "cell_type": "markdown",
   "metadata": {},
   "source": [
    "* Bin the purchase_data data frame by age\n",
    "\n",
    "\n",
    "* Run basic calculations to obtain purchase count, avg. purchase price, avg. purchase total per person etc. in the table below\n",
    "\n",
    "\n",
    "* Create a summary data frame to hold the results\n",
    "\n",
    "\n",
    "* Optional: give the displayed data cleaner formatting\n",
    "\n",
    "\n",
    "* Display the summary data frame"
   ]
  },
  {
   "cell_type": "code",
   "execution_count": 58,
   "metadata": {
    "scrolled": true
   },
   "outputs": [
    {
     "data": {
      "text/html": [
       "<style  type=\"text/css\" >\n",
       "</style><table id=\"T_63587ebe_c251_11ea_92e4_94de8069f676\" ><thead>    <tr>        <th class=\"blank level0\" ></th>        <th class=\"col_heading level0 col0\" >Purchase Count</th>        <th class=\"col_heading level0 col1\" >Average Purchase Price</th>        <th class=\"col_heading level0 col2\" >Total Purchase Value</th>        <th class=\"col_heading level0 col3\" >Avg Total Purchase per Person</th>    </tr>    <tr>        <th class=\"index_name level0\" >Binning_Ages</th>        <th class=\"blank\" ></th>        <th class=\"blank\" ></th>        <th class=\"blank\" ></th>        <th class=\"blank\" ></th>    </tr></thead><tbody>\n",
       "                <tr>\n",
       "                        <th id=\"T_63587ebe_c251_11ea_92e4_94de8069f676level0_row0\" class=\"row_heading level0 row0\" ><10</th>\n",
       "                        <td id=\"T_63587ebe_c251_11ea_92e4_94de8069f676row0_col0\" class=\"data row0 col0\" >23</td>\n",
       "                        <td id=\"T_63587ebe_c251_11ea_92e4_94de8069f676row0_col1\" class=\"data row0 col1\" >$3.35</td>\n",
       "                        <td id=\"T_63587ebe_c251_11ea_92e4_94de8069f676row0_col2\" class=\"data row0 col2\" >$77.13</td>\n",
       "                        <td id=\"T_63587ebe_c251_11ea_92e4_94de8069f676row0_col3\" class=\"data row0 col3\" >$23.00</td>\n",
       "            </tr>\n",
       "            <tr>\n",
       "                        <th id=\"T_63587ebe_c251_11ea_92e4_94de8069f676level0_row1\" class=\"row_heading level0 row1\" >10-14</th>\n",
       "                        <td id=\"T_63587ebe_c251_11ea_92e4_94de8069f676row1_col0\" class=\"data row1 col0\" >28</td>\n",
       "                        <td id=\"T_63587ebe_c251_11ea_92e4_94de8069f676row1_col1\" class=\"data row1 col1\" >$2.96</td>\n",
       "                        <td id=\"T_63587ebe_c251_11ea_92e4_94de8069f676row1_col2\" class=\"data row1 col2\" >$82.78</td>\n",
       "                        <td id=\"T_63587ebe_c251_11ea_92e4_94de8069f676row1_col3\" class=\"data row1 col3\" >$28.00</td>\n",
       "            </tr>\n",
       "            <tr>\n",
       "                        <th id=\"T_63587ebe_c251_11ea_92e4_94de8069f676level0_row2\" class=\"row_heading level0 row2\" >15-19</th>\n",
       "                        <td id=\"T_63587ebe_c251_11ea_92e4_94de8069f676row2_col0\" class=\"data row2 col0\" >136</td>\n",
       "                        <td id=\"T_63587ebe_c251_11ea_92e4_94de8069f676row2_col1\" class=\"data row2 col1\" >$3.04</td>\n",
       "                        <td id=\"T_63587ebe_c251_11ea_92e4_94de8069f676row2_col2\" class=\"data row2 col2\" >$412.89</td>\n",
       "                        <td id=\"T_63587ebe_c251_11ea_92e4_94de8069f676row2_col3\" class=\"data row2 col3\" >$136.00</td>\n",
       "            </tr>\n",
       "            <tr>\n",
       "                        <th id=\"T_63587ebe_c251_11ea_92e4_94de8069f676level0_row3\" class=\"row_heading level0 row3\" >20-24</th>\n",
       "                        <td id=\"T_63587ebe_c251_11ea_92e4_94de8069f676row3_col0\" class=\"data row3 col0\" >365</td>\n",
       "                        <td id=\"T_63587ebe_c251_11ea_92e4_94de8069f676row3_col1\" class=\"data row3 col1\" >$3.05</td>\n",
       "                        <td id=\"T_63587ebe_c251_11ea_92e4_94de8069f676row3_col2\" class=\"data row3 col2\" >$1,114.06</td>\n",
       "                        <td id=\"T_63587ebe_c251_11ea_92e4_94de8069f676row3_col3\" class=\"data row3 col3\" >$365.00</td>\n",
       "            </tr>\n",
       "            <tr>\n",
       "                        <th id=\"T_63587ebe_c251_11ea_92e4_94de8069f676level0_row4\" class=\"row_heading level0 row4\" >25-29</th>\n",
       "                        <td id=\"T_63587ebe_c251_11ea_92e4_94de8069f676row4_col0\" class=\"data row4 col0\" >101</td>\n",
       "                        <td id=\"T_63587ebe_c251_11ea_92e4_94de8069f676row4_col1\" class=\"data row4 col1\" >$2.90</td>\n",
       "                        <td id=\"T_63587ebe_c251_11ea_92e4_94de8069f676row4_col2\" class=\"data row4 col2\" >$293.00</td>\n",
       "                        <td id=\"T_63587ebe_c251_11ea_92e4_94de8069f676row4_col3\" class=\"data row4 col3\" >$101.00</td>\n",
       "            </tr>\n",
       "            <tr>\n",
       "                        <th id=\"T_63587ebe_c251_11ea_92e4_94de8069f676level0_row5\" class=\"row_heading level0 row5\" >30-34</th>\n",
       "                        <td id=\"T_63587ebe_c251_11ea_92e4_94de8069f676row5_col0\" class=\"data row5 col0\" >73</td>\n",
       "                        <td id=\"T_63587ebe_c251_11ea_92e4_94de8069f676row5_col1\" class=\"data row5 col1\" >$2.93</td>\n",
       "                        <td id=\"T_63587ebe_c251_11ea_92e4_94de8069f676row5_col2\" class=\"data row5 col2\" >$214.00</td>\n",
       "                        <td id=\"T_63587ebe_c251_11ea_92e4_94de8069f676row5_col3\" class=\"data row5 col3\" >$73.00</td>\n",
       "            </tr>\n",
       "            <tr>\n",
       "                        <th id=\"T_63587ebe_c251_11ea_92e4_94de8069f676level0_row6\" class=\"row_heading level0 row6\" >35-39</th>\n",
       "                        <td id=\"T_63587ebe_c251_11ea_92e4_94de8069f676row6_col0\" class=\"data row6 col0\" >41</td>\n",
       "                        <td id=\"T_63587ebe_c251_11ea_92e4_94de8069f676row6_col1\" class=\"data row6 col1\" >$3.60</td>\n",
       "                        <td id=\"T_63587ebe_c251_11ea_92e4_94de8069f676row6_col2\" class=\"data row6 col2\" >$147.67</td>\n",
       "                        <td id=\"T_63587ebe_c251_11ea_92e4_94de8069f676row6_col3\" class=\"data row6 col3\" >$41.00</td>\n",
       "            </tr>\n",
       "            <tr>\n",
       "                        <th id=\"T_63587ebe_c251_11ea_92e4_94de8069f676level0_row7\" class=\"row_heading level0 row7\" >40+</th>\n",
       "                        <td id=\"T_63587ebe_c251_11ea_92e4_94de8069f676row7_col0\" class=\"data row7 col0\" >13</td>\n",
       "                        <td id=\"T_63587ebe_c251_11ea_92e4_94de8069f676row7_col1\" class=\"data row7 col1\" >$2.94</td>\n",
       "                        <td id=\"T_63587ebe_c251_11ea_92e4_94de8069f676row7_col2\" class=\"data row7 col2\" >$38.24</td>\n",
       "                        <td id=\"T_63587ebe_c251_11ea_92e4_94de8069f676row7_col3\" class=\"data row7 col3\" >$13.00</td>\n",
       "            </tr>\n",
       "    </tbody></table>"
      ],
      "text/plain": [
       "<pandas.io.formats.style.Styler at 0x1ec2e2f3d30>"
      ]
     },
     "execution_count": 58,
     "metadata": {},
     "output_type": "execute_result"
    }
   ],
   "source": [
    "# Defining the age groups, and setting the bins to categories which ages will go in which age group\n",
    "\n",
    "age_bins = [0, 9.9, 14.9, 19.9, 24.9, 29.9, 34.9, 39.9, 200]\n",
    "age_groups = [\"<10\", \"10-14\", \"15-19\", \"20-24\", \"25-29\", \"30-34\", \"35-39\", \"40+\"]\n",
    "\n",
    "# placing the age values from purchase_data into those bins defined above\n",
    "purchase_data[\"Binning_Ages\"] = pd.cut(purchase_data[\"Age\"], age_bins, labels=age_groups)\n",
    "\n",
    "#using groupby to view the data through \"Binning_Ages\" that was figured out above\n",
    "binning_ages = purchase_data.groupby(\"Binning_Ages\")\n",
    "\n",
    "# Grabbing the number of  TOTAL purchases from purchase_data\n",
    "count_of_sales = purchase_data[\"Purchase ID\"].count()\n",
    "\n",
    "\n",
    "# Finding the \"Purchase Count\" (aka, number of purchases each age group made)\n",
    "ages_purchase_count = binning_ages[\"SN\"].count()\n",
    "\n",
    "# Finding the \"Average Purchase Price\" (aka, average price per purchase within each age group)\n",
    "ages_average_purchase_price = binning_ages[\"Price\"].mean()\n",
    "\n",
    "\n",
    "# Finding the \"Total Purchase Value\" (aka, total amount of money made from each age group)\n",
    "ages_total_purchase_value = binning_ages[\"Price\"].sum()\n",
    "\n",
    "\n",
    "# Finding the Avg Total Purchase per Person\n",
    "ages_avg_total_purchase =  ages_total_purchase_value / ages_average_purchase_price\n",
    "\n",
    "\n",
    "\n",
    "age_purchasing_analysis_table = pd.DataFrame({\"Purchase Count\": ages_purchase_count,\n",
    "                                              \"Average Purchase Price\": ages_average_purchase_price,\n",
    "                                              \"Total Purchase Value\": ages_total_purchase_value,\n",
    "                                              \"Avg Total Purchase per Person\": ages_avg_total_purchase})\n",
    "\n",
    "\n",
    "# This section nicely formats the values found in the section above so they display as currency\n",
    "age_purchasing_analysis_table.style.format({\"Average Purchase Price\":\"${:,.2f}\",\n",
    "                                            \"Total Purchase Value\":\"${:,.2f}\",\n",
    "                                            \"Avg Total Purchase per Person\":\"${:,.2f}\"})"
   ]
  },
  {
   "cell_type": "markdown",
   "metadata": {},
   "source": [
    "## Top Spenders"
   ]
  },
  {
   "cell_type": "markdown",
   "metadata": {},
   "source": [
    "* Run basic calculations to obtain the results in the table below\n",
    "\n",
    "\n",
    "* Create a summary data frame to hold the results\n",
    "\n",
    "\n",
    "* Sort the total purchase value column in descending order\n",
    "\n",
    "\n",
    "* Optional: give the displayed data cleaner formatting\n",
    "\n",
    "\n",
    "* Display a preview of the summary data frame\n",
    "\n"
   ]
  },
  {
   "cell_type": "code",
   "execution_count": 78,
   "metadata": {},
   "outputs": [
    {
     "data": {
      "text/html": [
       "<style  type=\"text/css\" >\n",
       "</style><table id=\"T_3540cefa_c256_11ea_83b6_94de8069f676\" ><thead>    <tr>        <th class=\"blank level0\" ></th>        <th class=\"col_heading level0 col0\" >Purchase Count</th>        <th class=\"col_heading level0 col1\" >Average Purchase Price</th>        <th class=\"col_heading level0 col2\" >Total Purchase Value</th>    </tr>    <tr>        <th class=\"index_name level0\" >SN</th>        <th class=\"blank\" ></th>        <th class=\"blank\" ></th>        <th class=\"blank\" ></th>    </tr></thead><tbody>\n",
       "                <tr>\n",
       "                        <th id=\"T_3540cefa_c256_11ea_83b6_94de8069f676level0_row0\" class=\"row_heading level0 row0\" >Lisosia93</th>\n",
       "                        <td id=\"T_3540cefa_c256_11ea_83b6_94de8069f676row0_col0\" class=\"data row0 col0\" >5</td>\n",
       "                        <td id=\"T_3540cefa_c256_11ea_83b6_94de8069f676row0_col1\" class=\"data row0 col1\" >$3.79</td>\n",
       "                        <td id=\"T_3540cefa_c256_11ea_83b6_94de8069f676row0_col2\" class=\"data row0 col2\" >$18.96</td>\n",
       "            </tr>\n",
       "            <tr>\n",
       "                        <th id=\"T_3540cefa_c256_11ea_83b6_94de8069f676level0_row1\" class=\"row_heading level0 row1\" >Idastidru52</th>\n",
       "                        <td id=\"T_3540cefa_c256_11ea_83b6_94de8069f676row1_col0\" class=\"data row1 col0\" >4</td>\n",
       "                        <td id=\"T_3540cefa_c256_11ea_83b6_94de8069f676row1_col1\" class=\"data row1 col1\" >$3.86</td>\n",
       "                        <td id=\"T_3540cefa_c256_11ea_83b6_94de8069f676row1_col2\" class=\"data row1 col2\" >$15.45</td>\n",
       "            </tr>\n",
       "            <tr>\n",
       "                        <th id=\"T_3540cefa_c256_11ea_83b6_94de8069f676level0_row2\" class=\"row_heading level0 row2\" >Chamjask73</th>\n",
       "                        <td id=\"T_3540cefa_c256_11ea_83b6_94de8069f676row2_col0\" class=\"data row2 col0\" >3</td>\n",
       "                        <td id=\"T_3540cefa_c256_11ea_83b6_94de8069f676row2_col1\" class=\"data row2 col1\" >$4.61</td>\n",
       "                        <td id=\"T_3540cefa_c256_11ea_83b6_94de8069f676row2_col2\" class=\"data row2 col2\" >$13.83</td>\n",
       "            </tr>\n",
       "            <tr>\n",
       "                        <th id=\"T_3540cefa_c256_11ea_83b6_94de8069f676level0_row3\" class=\"row_heading level0 row3\" >Iral74</th>\n",
       "                        <td id=\"T_3540cefa_c256_11ea_83b6_94de8069f676row3_col0\" class=\"data row3 col0\" >4</td>\n",
       "                        <td id=\"T_3540cefa_c256_11ea_83b6_94de8069f676row3_col1\" class=\"data row3 col1\" >$3.40</td>\n",
       "                        <td id=\"T_3540cefa_c256_11ea_83b6_94de8069f676row3_col2\" class=\"data row3 col2\" >$13.62</td>\n",
       "            </tr>\n",
       "            <tr>\n",
       "                        <th id=\"T_3540cefa_c256_11ea_83b6_94de8069f676level0_row4\" class=\"row_heading level0 row4\" >Iskadarya95</th>\n",
       "                        <td id=\"T_3540cefa_c256_11ea_83b6_94de8069f676row4_col0\" class=\"data row4 col0\" >3</td>\n",
       "                        <td id=\"T_3540cefa_c256_11ea_83b6_94de8069f676row4_col1\" class=\"data row4 col1\" >$4.37</td>\n",
       "                        <td id=\"T_3540cefa_c256_11ea_83b6_94de8069f676row4_col2\" class=\"data row4 col2\" >$13.10</td>\n",
       "            </tr>\n",
       "    </tbody></table>"
      ],
      "text/plain": [
       "<pandas.io.formats.style.Styler at 0x1ec2f74d4a8>"
      ]
     },
     "execution_count": 78,
     "metadata": {},
     "output_type": "execute_result"
    }
   ],
   "source": [
    "# grabbing the SN of each player from purchase_data\n",
    "top_spender_names = purchase_data.groupby(\"SN\")\n",
    "\n",
    "# finding the number of purchases per each SN\n",
    "top_spender_purchase_counts = top_spender_names[\"Purchase ID\"].count()\n",
    "\n",
    "# finding the average amount each SN (or player) spent\n",
    "top_spender_avg_purchase_price = top_spender_names[\"Price\"].mean()\n",
    "\n",
    "# finding the total amount each SN (or player) spent\n",
    "top_spender_total_value = top_spender_names[\"Price\"].sum()\n",
    "\n",
    "# displaying all the values found above\n",
    "top_spenders_summary_table = pd.DataFrame({\"Purchase Count\": top_spender_purchase_counts,\n",
    "                                              \"Average Purchase Price\": top_spender_avg_purchase_price,\n",
    "                                              \"Total Purchase Value\": top_spender_total_value})\n",
    "\n",
    "# This section nicely formats the values found in the section above so they display as currency\n",
    "top_spenders_summary_table.sort_values([\"Total Purchase Value\"],axis=0,ascending=False).head(5).style.format({\"Average Purchase Price\":\"${:,.2f}\",\n",
    "                                                                                                              \"Total Purchase Value\":\"${:,.2f}\"})\n",
    "\n",
    "\n",
    "\n"
   ]
  },
  {
   "cell_type": "markdown",
   "metadata": {},
   "source": [
    "## Most Popular Items"
   ]
  },
  {
   "cell_type": "markdown",
   "metadata": {},
   "source": [
    "* Retrieve the Item ID, Item Name, and Item Price columns\n",
    "\n",
    "\n",
    "* Group by Item ID and Item Name. Perform calculations to obtain purchase count, item price, and total purchase value\n",
    "\n",
    "\n",
    "* Create a summary data frame to hold the results\n",
    "\n",
    "\n",
    "* Sort the purchase count column in descending order\n",
    "\n",
    "\n",
    "* Optional: give the displayed data cleaner formatting\n",
    "\n",
    "\n",
    "* Display a preview of the summary data frame\n",
    "\n"
   ]
  },
  {
   "cell_type": "code",
   "execution_count": 79,
   "metadata": {},
   "outputs": [
    {
     "data": {
      "text/html": [
       "<style  type=\"text/css\" >\n",
       "</style><table id=\"T_36e76d3a_c256_11ea_8000_94de8069f676\" ><thead>    <tr>        <th class=\"blank\" ></th>        <th class=\"blank level0\" ></th>        <th class=\"col_heading level0 col0\" >Purchase Count</th>        <th class=\"col_heading level0 col1\" >Item Price</th>        <th class=\"col_heading level0 col2\" >Total Purchase Value</th>    </tr>    <tr>        <th class=\"index_name level0\" >Item ID</th>        <th class=\"index_name level1\" >Item Name</th>        <th class=\"blank\" ></th>        <th class=\"blank\" ></th>        <th class=\"blank\" ></th>    </tr></thead><tbody>\n",
       "                <tr>\n",
       "                        <th id=\"T_36e76d3a_c256_11ea_8000_94de8069f676level0_row0\" class=\"row_heading level0 row0\" >92</th>\n",
       "                        <th id=\"T_36e76d3a_c256_11ea_8000_94de8069f676level1_row0\" class=\"row_heading level1 row0\" >Final Critic</th>\n",
       "                        <td id=\"T_36e76d3a_c256_11ea_8000_94de8069f676row0_col0\" class=\"data row0 col0\" >13</td>\n",
       "                        <td id=\"T_36e76d3a_c256_11ea_8000_94de8069f676row0_col1\" class=\"data row0 col1\" >$4.61</td>\n",
       "                        <td id=\"T_36e76d3a_c256_11ea_8000_94de8069f676row0_col2\" class=\"data row0 col2\" >$59.99</td>\n",
       "            </tr>\n",
       "            <tr>\n",
       "                        <th id=\"T_36e76d3a_c256_11ea_8000_94de8069f676level0_row1\" class=\"row_heading level0 row1\" >178</th>\n",
       "                        <th id=\"T_36e76d3a_c256_11ea_8000_94de8069f676level1_row1\" class=\"row_heading level1 row1\" >Oathbreaker, Last Hope of the Breaking Storm</th>\n",
       "                        <td id=\"T_36e76d3a_c256_11ea_8000_94de8069f676row1_col0\" class=\"data row1 col0\" >12</td>\n",
       "                        <td id=\"T_36e76d3a_c256_11ea_8000_94de8069f676row1_col1\" class=\"data row1 col1\" >$4.23</td>\n",
       "                        <td id=\"T_36e76d3a_c256_11ea_8000_94de8069f676row1_col2\" class=\"data row1 col2\" >$50.76</td>\n",
       "            </tr>\n",
       "            <tr>\n",
       "                        <th id=\"T_36e76d3a_c256_11ea_8000_94de8069f676level0_row2\" class=\"row_heading level0 row2\" >145</th>\n",
       "                        <th id=\"T_36e76d3a_c256_11ea_8000_94de8069f676level1_row2\" class=\"row_heading level1 row2\" >Fiery Glass Crusader</th>\n",
       "                        <td id=\"T_36e76d3a_c256_11ea_8000_94de8069f676row2_col0\" class=\"data row2 col0\" >9</td>\n",
       "                        <td id=\"T_36e76d3a_c256_11ea_8000_94de8069f676row2_col1\" class=\"data row2 col1\" >$4.58</td>\n",
       "                        <td id=\"T_36e76d3a_c256_11ea_8000_94de8069f676row2_col2\" class=\"data row2 col2\" >$41.22</td>\n",
       "            </tr>\n",
       "            <tr>\n",
       "                        <th id=\"T_36e76d3a_c256_11ea_8000_94de8069f676level0_row3\" class=\"row_heading level0 row3\" >132</th>\n",
       "                        <th id=\"T_36e76d3a_c256_11ea_8000_94de8069f676level1_row3\" class=\"row_heading level1 row3\" >Persuasion</th>\n",
       "                        <td id=\"T_36e76d3a_c256_11ea_8000_94de8069f676row3_col0\" class=\"data row3 col0\" >9</td>\n",
       "                        <td id=\"T_36e76d3a_c256_11ea_8000_94de8069f676row3_col1\" class=\"data row3 col1\" >$3.22</td>\n",
       "                        <td id=\"T_36e76d3a_c256_11ea_8000_94de8069f676row3_col2\" class=\"data row3 col2\" >$28.99</td>\n",
       "            </tr>\n",
       "            <tr>\n",
       "                        <th id=\"T_36e76d3a_c256_11ea_8000_94de8069f676level0_row4\" class=\"row_heading level0 row4\" >108</th>\n",
       "                        <th id=\"T_36e76d3a_c256_11ea_8000_94de8069f676level1_row4\" class=\"row_heading level1 row4\" >Extraction, Quickblade Of Trembling Hands</th>\n",
       "                        <td id=\"T_36e76d3a_c256_11ea_8000_94de8069f676row4_col0\" class=\"data row4 col0\" >9</td>\n",
       "                        <td id=\"T_36e76d3a_c256_11ea_8000_94de8069f676row4_col1\" class=\"data row4 col1\" >$3.53</td>\n",
       "                        <td id=\"T_36e76d3a_c256_11ea_8000_94de8069f676row4_col2\" class=\"data row4 col2\" >$31.77</td>\n",
       "            </tr>\n",
       "    </tbody></table>"
      ],
      "text/plain": [
       "<pandas.io.formats.style.Styler at 0x1ec2e46af60>"
      ]
     },
     "execution_count": 79,
     "metadata": {},
     "output_type": "execute_result"
    }
   ],
   "source": [
    "# Creating new dataframe with the Item ID, Item Name, and Item Price columns\n",
    "\n",
    "top_items_df = purchase_data[[\"Item ID\", \"Item Name\", \"Price\"]]\n",
    "top_items_group = top_items_df.groupby([\"Item ID\", \"Item Name\"])\n",
    "\n",
    "top_items_purchase_counts = top_items_group[\"Item ID\"].count()\n",
    "\n",
    "top_items_item_price = top_items_group[\"Price\"].sum()\n",
    "\n",
    "top_items_total_value = top_items_item_price /top_items_purchase_counts\n",
    "\n",
    "\n",
    "top_items_purchase_counts\n",
    "top_items_summary_table = pd.DataFrame({\"Purchase Count\":top_items_purchase_counts,\n",
    "                                        \"Item Price\": top_items_total_value,\n",
    "                                        \"Total Purchase Value\": top_items_item_price})\n",
    "\n",
    "# top_items_summary_table.style.format({\"Item Price\":\"${:,.2f}\",\n",
    "#                                             \"Total Purchase Value\":\"${:,.2f}\"})\n",
    "\n",
    "\n",
    "\n",
    "top_items_summary_table.sort_values([\"Purchase Count\"],axis=0,ascending=False).head(5).style.format({\"Item Price\":\"${:,.2f}\",\n",
    "                                            \"Total Purchase Value\":\"${:,.2f}\"})\n"
   ]
  },
  {
   "cell_type": "markdown",
   "metadata": {},
   "source": [
    "## Most Profitable Items"
   ]
  },
  {
   "cell_type": "markdown",
   "metadata": {},
   "source": [
    "* Sort the above table by total purchase value in descending order\n",
    "\n",
    "\n",
    "* Optional: give the displayed data cleaner formatting\n",
    "\n",
    "\n",
    "* Display a preview of the data frame\n",
    "\n"
   ]
  },
  {
   "cell_type": "code",
   "execution_count": 80,
   "metadata": {
    "scrolled": true
   },
   "outputs": [
    {
     "data": {
      "text/html": [
       "<style  type=\"text/css\" >\n",
       "</style><table id=\"T_37dffe1a_c256_11ea_b729_94de8069f676\" ><thead>    <tr>        <th class=\"blank\" ></th>        <th class=\"blank level0\" ></th>        <th class=\"col_heading level0 col0\" >Purchase Count</th>        <th class=\"col_heading level0 col1\" >Item Price</th>        <th class=\"col_heading level0 col2\" >Total Purchase Value</th>    </tr>    <tr>        <th class=\"index_name level0\" >Item ID</th>        <th class=\"index_name level1\" >Item Name</th>        <th class=\"blank\" ></th>        <th class=\"blank\" ></th>        <th class=\"blank\" ></th>    </tr></thead><tbody>\n",
       "                <tr>\n",
       "                        <th id=\"T_37dffe1a_c256_11ea_b729_94de8069f676level0_row0\" class=\"row_heading level0 row0\" >92</th>\n",
       "                        <th id=\"T_37dffe1a_c256_11ea_b729_94de8069f676level1_row0\" class=\"row_heading level1 row0\" >Final Critic</th>\n",
       "                        <td id=\"T_37dffe1a_c256_11ea_b729_94de8069f676row0_col0\" class=\"data row0 col0\" >13</td>\n",
       "                        <td id=\"T_37dffe1a_c256_11ea_b729_94de8069f676row0_col1\" class=\"data row0 col1\" >$4.61</td>\n",
       "                        <td id=\"T_37dffe1a_c256_11ea_b729_94de8069f676row0_col2\" class=\"data row0 col2\" >$59.99</td>\n",
       "            </tr>\n",
       "            <tr>\n",
       "                        <th id=\"T_37dffe1a_c256_11ea_b729_94de8069f676level0_row1\" class=\"row_heading level0 row1\" >178</th>\n",
       "                        <th id=\"T_37dffe1a_c256_11ea_b729_94de8069f676level1_row1\" class=\"row_heading level1 row1\" >Oathbreaker, Last Hope of the Breaking Storm</th>\n",
       "                        <td id=\"T_37dffe1a_c256_11ea_b729_94de8069f676row1_col0\" class=\"data row1 col0\" >12</td>\n",
       "                        <td id=\"T_37dffe1a_c256_11ea_b729_94de8069f676row1_col1\" class=\"data row1 col1\" >$4.23</td>\n",
       "                        <td id=\"T_37dffe1a_c256_11ea_b729_94de8069f676row1_col2\" class=\"data row1 col2\" >$50.76</td>\n",
       "            </tr>\n",
       "            <tr>\n",
       "                        <th id=\"T_37dffe1a_c256_11ea_b729_94de8069f676level0_row2\" class=\"row_heading level0 row2\" >82</th>\n",
       "                        <th id=\"T_37dffe1a_c256_11ea_b729_94de8069f676level1_row2\" class=\"row_heading level1 row2\" >Nirvana</th>\n",
       "                        <td id=\"T_37dffe1a_c256_11ea_b729_94de8069f676row2_col0\" class=\"data row2 col0\" >9</td>\n",
       "                        <td id=\"T_37dffe1a_c256_11ea_b729_94de8069f676row2_col1\" class=\"data row2 col1\" >$4.90</td>\n",
       "                        <td id=\"T_37dffe1a_c256_11ea_b729_94de8069f676row2_col2\" class=\"data row2 col2\" >$44.10</td>\n",
       "            </tr>\n",
       "            <tr>\n",
       "                        <th id=\"T_37dffe1a_c256_11ea_b729_94de8069f676level0_row3\" class=\"row_heading level0 row3\" >145</th>\n",
       "                        <th id=\"T_37dffe1a_c256_11ea_b729_94de8069f676level1_row3\" class=\"row_heading level1 row3\" >Fiery Glass Crusader</th>\n",
       "                        <td id=\"T_37dffe1a_c256_11ea_b729_94de8069f676row3_col0\" class=\"data row3 col0\" >9</td>\n",
       "                        <td id=\"T_37dffe1a_c256_11ea_b729_94de8069f676row3_col1\" class=\"data row3 col1\" >$4.58</td>\n",
       "                        <td id=\"T_37dffe1a_c256_11ea_b729_94de8069f676row3_col2\" class=\"data row3 col2\" >$41.22</td>\n",
       "            </tr>\n",
       "            <tr>\n",
       "                        <th id=\"T_37dffe1a_c256_11ea_b729_94de8069f676level0_row4\" class=\"row_heading level0 row4\" >103</th>\n",
       "                        <th id=\"T_37dffe1a_c256_11ea_b729_94de8069f676level1_row4\" class=\"row_heading level1 row4\" >Singed Scalpel</th>\n",
       "                        <td id=\"T_37dffe1a_c256_11ea_b729_94de8069f676row4_col0\" class=\"data row4 col0\" >8</td>\n",
       "                        <td id=\"T_37dffe1a_c256_11ea_b729_94de8069f676row4_col1\" class=\"data row4 col1\" >$4.35</td>\n",
       "                        <td id=\"T_37dffe1a_c256_11ea_b729_94de8069f676row4_col2\" class=\"data row4 col2\" >$34.80</td>\n",
       "            </tr>\n",
       "    </tbody></table>"
      ],
      "text/plain": [
       "<pandas.io.formats.style.Styler at 0x1ec2f72b518>"
      ]
     },
     "execution_count": 80,
     "metadata": {},
     "output_type": "execute_result"
    }
   ],
   "source": [
    "top_items_summary_table.sort_values([\"Total Purchase Value\"],axis=0,ascending=False).head(5).style.format({\"Item Price\":\"${:,.2f}\",\n",
    "                                            \"Total Purchase Value\":\"${:,.2f}\"})"
   ]
  },
  {
   "cell_type": "code",
   "execution_count": null,
   "metadata": {},
   "outputs": [],
   "source": []
  }
 ],
 "metadata": {
  "anaconda-cloud": {},
  "kernel_info": {
   "name": "python3"
  },
  "kernelspec": {
   "display_name": "Python 3",
   "language": "python",
   "name": "python3"
  },
  "language_info": {
   "codemirror_mode": {
    "name": "ipython",
    "version": 3
   },
   "file_extension": ".py",
   "mimetype": "text/x-python",
   "name": "python",
   "nbconvert_exporter": "python",
   "pygments_lexer": "ipython3",
   "version": "3.6.10"
  },
  "latex_envs": {
   "LaTeX_envs_menu_present": true,
   "autoclose": false,
   "autocomplete": true,
   "bibliofile": "biblio.bib",
   "cite_by": "apalike",
   "current_citInitial": 1,
   "eqLabelWithNumbers": true,
   "eqNumInitial": 1,
   "hotkeys": {
    "equation": "Ctrl-E",
    "itemize": "Ctrl-I"
   },
   "labels_anchors": false,
   "latex_user_defs": false,
   "report_style_numbering": false,
   "user_envs_cfg": false
  },
  "nteract": {
   "version": "0.2.0"
  }
 },
 "nbformat": 4,
 "nbformat_minor": 2
}
